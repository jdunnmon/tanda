{
 "cells": [
  {
   "cell_type": "code",
   "execution_count": 1,
   "metadata": {},
   "outputs": [],
   "source": [
    "import numpy as np\n",
    "import json,os\n",
    "import matplotlib as plt\n",
    "from data_utils import DDSMData"
   ]
  },
  {
   "cell_type": "code",
   "execution_count": 2,
   "metadata": {},
   "outputs": [],
   "source": [
    "#setting up paths to data and initializing data object\n",
    "root_path = '/home/jdunnmon/research/re/projects/tanda/data/ddsm/benign_malignant'\n",
    "label_json ='mass_to_label.json'\n",
    "image_path = 'mammograms_cropped'\n",
    "mask_path = 'masks_cropped'\n",
    "rand_seed = 1\n",
    "data = DDSMData(root_path,label_json,image_path,mask_path=mask_path)\n",
    "#creating test/train/val sets and writing to file\n",
    "x_train,y_train,x_val,y_val,x_test,y_test = \\\n",
    "data.create_ttv_shuffle_splits(1,train_size=0.7,val_size=0.15,test_size=0.15,rand_seed=rand_seed)\n",
    "data.write_splits(x_train[0],x_val[0],x_test[0],'split_0')"
   ]
  },
  {
   "cell_type": "code",
   "execution_count": 11,
   "metadata": {},
   "outputs": [
    {
     "name": "stdout",
     "output_type": "stream",
     "text": [
      "1685 1684\n"
     ]
    }
   ],
   "source": [
    "print len(x_train[0]),len(y_train[0]),len(x_val[0]),len(y_val[0]),len(x_test[0]),len(y_test[0])\n",
    "print len(data.val_names)\n",
    "#a = list(x_test[0])+list(x_train[0])+list(x_val[0])\n",
    "#print len(a+[a[0]]),len(set(a+[a[0]]))"
   ]
  }
 ],
 "metadata": {
  "kernelspec": {
   "display_name": "Python 2",
   "language": "python",
   "name": "python2"
  },
  "language_info": {
   "codemirror_mode": {
    "name": "ipython",
    "version": 2
   },
   "file_extension": ".py",
   "mimetype": "text/x-python",
   "name": "python",
   "nbconvert_exporter": "python",
   "pygments_lexer": "ipython2",
   "version": "2.7.13"
  }
 },
 "nbformat": 4,
 "nbformat_minor": 2
}
